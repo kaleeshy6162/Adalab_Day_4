{
 "cells": [
  {
   "cell_type": "markdown",
   "metadata": {},
   "source": [
    "# Ejercicios:"
   ]
  },
  {
   "cell_type": "markdown",
   "metadata": {},
   "source": [
    "- Definir listas"
   ]
  },
  {
   "cell_type": "markdown",
   "metadata": {},
   "source": [
    "1. Haz una lista llamada `colores` donde almacenemos los primeros 6 colores que te vengan a la mente."
   ]
  },
  {
   "cell_type": "code",
   "execution_count": 37,
   "metadata": {},
   "outputs": [
    {
     "data": {
      "text/plain": [
       "['azul', 'verde', 'gris', 'negro', 'morado', 'naranja']"
      ]
     },
     "execution_count": 37,
     "metadata": {},
     "output_type": "execute_result"
    }
   ],
   "source": [
    "colores = [\"azul\",\"verde\",\"gris\",\"negro\",\"morado\",\"naranja\"]\n",
    "colores"
   ]
  },
  {
   "cell_type": "markdown",
   "metadata": {},
   "source": [
    "2. Haz una lista llamada `buses` de las líneas de autobuses que pasan por tu casa."
   ]
  },
  {
   "cell_type": "code",
   "execution_count": 38,
   "metadata": {},
   "outputs": [
    {
     "data": {
      "text/plain": [
       "[2, 512, 516]"
      ]
     },
     "execution_count": 38,
     "metadata": {},
     "output_type": "execute_result"
    }
   ],
   "source": [
    "buses = [2,512,516]\n",
    "buses"
   ]
  },
  {
   "cell_type": "markdown",
   "metadata": {},
   "source": [
    " 3. Apunta la previsión de temperaturas máximas para todos los días de esta semana en `temperaturas`."
   ]
  },
  {
   "cell_type": "code",
   "execution_count": 39,
   "metadata": {},
   "outputs": [
    {
     "data": {
      "text/plain": [
       "['26C', '27C', '30C', '28C', '29C', '31C', '30C']"
      ]
     },
     "execution_count": 39,
     "metadata": {},
     "output_type": "execute_result"
    }
   ],
   "source": [
    "temperaturas = [\"26C\",\"27C\",\"30C\",\"28C\",\"29C\",\"31C\",\"30C\"]\n",
    "temperaturas"
   ]
  },
  {
   "cell_type": "markdown",
   "metadata": {},
   "source": [
    "4. Convierte tu(s) nombre(s) a una lista `nombres` de caracteres."
   ]
  },
  {
   "cell_type": "code",
   "execution_count": 40,
   "metadata": {},
   "outputs": [
    {
     "data": {
      "text/plain": [
       "['L', 'a', 'u', 'r', 'a']"
      ]
     },
     "execution_count": 40,
     "metadata": {},
     "output_type": "execute_result"
    }
   ],
   "source": [
    "nombres = [\"L\",\"a\",\"u\",\"r\",\"a\"]\n",
    "nombres"
   ]
  },
  {
   "cell_type": "markdown",
   "metadata": {},
   "source": [
    "5. Convierte tu(s) apellido(s) a una lista `apellidos` de caracteres."
   ]
  },
  {
   "cell_type": "code",
   "execution_count": 41,
   "metadata": {},
   "outputs": [
    {
     "data": {
      "text/plain": [
       "['G',\n",
       " 'u',\n",
       " 't',\n",
       " 'i',\n",
       " 'é',\n",
       " 'r',\n",
       " 'r',\n",
       " 'e',\n",
       " 'z',\n",
       " ' ',\n",
       " 'F',\n",
       " 'a',\n",
       " 'r',\n",
       " 'i',\n",
       " 'ñ',\n",
       " 'a',\n",
       " 's']"
      ]
     },
     "execution_count": 41,
     "metadata": {},
     "output_type": "execute_result"
    }
   ],
   "source": [
    "apellidos = [\"G\",\"u\",\"t\",\"i\",\"é\",\"r\",\"r\",\"e\",\"z\",\" \",\"F\",\"a\",\"r\",\"i\",\"ñ\",\"a\",\"s\"]\n",
    "apellidos"
   ]
  },
  {
   "cell_type": "markdown",
   "metadata": {},
   "source": [
    "- Usar `len()`, `min()`, y `max()`"
   ]
  },
  {
   "cell_type": "markdown",
   "metadata": {},
   "source": [
    " 6. ¿Cuántos búses pasan por tu casa?"
   ]
  },
  {
   "cell_type": "code",
   "execution_count": 42,
   "metadata": {},
   "outputs": [
    {
     "data": {
      "text/plain": [
       "3"
      ]
     },
     "execution_count": 42,
     "metadata": {},
     "output_type": "execute_result"
    }
   ],
   "source": [
    "len(buses)"
   ]
  },
  {
   "cell_type": "markdown",
   "metadata": {},
   "source": [
    "7. ¿Cuántos caracteres hay en tu apellido(s) (inluyendo los espacios)?"
   ]
  },
  {
   "cell_type": "code",
   "execution_count": 43,
   "metadata": {},
   "outputs": [
    {
     "data": {
      "text/plain": [
       "17"
      ]
     },
     "execution_count": 43,
     "metadata": {},
     "output_type": "execute_result"
    }
   ],
   "source": [
    "len(apellidos)"
   ]
  },
  {
   "cell_type": "markdown",
   "metadata": {},
   "source": [
    "8. ¿Cuáles son las temperaturas máximas (`t_max`) y mínimas (`t_min`) para esta semana?"
   ]
  },
  {
   "cell_type": "code",
   "execution_count": 44,
   "metadata": {},
   "outputs": [
    {
     "data": {
      "text/plain": [
       "'25C'"
      ]
     },
     "execution_count": 44,
     "metadata": {},
     "output_type": "execute_result"
    }
   ],
   "source": [
    "temperaturas_2 = [\"25C\",\"27C\",\"30C\",\"31C\",\"33C\",\"28C\",\"34C\"]\n",
    "t_min = min(temperaturas_2)\n",
    "t_min"
   ]
  },
  {
   "cell_type": "code",
   "execution_count": 45,
   "metadata": {},
   "outputs": [
    {
     "data": {
      "text/plain": [
       "'40C'"
      ]
     },
     "execution_count": 45,
     "metadata": {},
     "output_type": "execute_result"
    }
   ],
   "source": [
    "temperaturas_3 = [\"30C\",\"32C\",\"31C\",\"33C\",\"37C\",\"39C\",\"40C\"]\n",
    "t_max = max(temperaturas_3)\n",
    "t_max"
   ]
  },
  {
   "cell_type": "markdown",
   "metadata": {},
   "source": [
    " 9. Hay una 'e' en tu nombre?"
   ]
  },
  {
   "cell_type": "code",
   "execution_count": 46,
   "metadata": {},
   "outputs": [
    {
     "data": {
      "text/plain": [
       "False"
      ]
     },
     "execution_count": 46,
     "metadata": {},
     "output_type": "execute_result"
    }
   ],
   "source": [
    "nombre = \"Laura\"\n",
    "\"e\" in nombre"
   ]
  },
  {
   "cell_type": "markdown",
   "metadata": {},
   "source": [
    " 10. Tienes el color 'rosa' en la lista de colores?"
   ]
  },
  {
   "cell_type": "code",
   "execution_count": 47,
   "metadata": {},
   "outputs": [
    {
     "data": {
      "text/plain": [
       "False"
      ]
     },
     "execution_count": 47,
     "metadata": {},
     "output_type": "execute_result"
    }
   ],
   "source": [
    "\"rosa\" in colores"
   ]
  },
  {
   "cell_type": "markdown",
   "metadata": {},
   "source": [
    "11. ¿Tiene una 'x' tu nombre? (Usa `not in`)"
   ]
  },
  {
   "cell_type": "code",
   "execution_count": 48,
   "metadata": {},
   "outputs": [
    {
     "data": {
      "text/plain": [
       "True"
      ]
     },
     "execution_count": 48,
     "metadata": {},
     "output_type": "execute_result"
    }
   ],
   "source": [
    "\"x\" not in nombre"
   ]
  },
  {
   "cell_type": "markdown",
   "metadata": {},
   "source": [
    "- Hacer copias y borrar sus contenidos"
   ]
  },
  {
   "cell_type": "markdown",
   "metadata": {},
   "source": [
    "12. Copia el contenido de `temperaturas` a `temperaturas2`, y `temperaturas3`."
   ]
  },
  {
   "cell_type": "code",
   "execution_count": 49,
   "metadata": {},
   "outputs": [
    {
     "name": "stdout",
     "output_type": "stream",
     "text": [
      "['26C', '27C', '30C', '28C', '29C', '31C', '30C']\n",
      "esta es la copia ['26C', '27C', '30C', '28C', '29C', '31C', '30C']\n"
     ]
    }
   ],
   "source": [
    "temp_ = temperaturas.copy()\n",
    "print(temperaturas)\n",
    "print(\"esta es la copia\",temp_)"
   ]
  },
  {
   "cell_type": "code",
   "execution_count": 50,
   "metadata": {},
   "outputs": [
    {
     "name": "stdout",
     "output_type": "stream",
     "text": [
      "['25C', '27C', '30C', '31C', '33C', '28C', '34C']\n",
      "esta es la copia ['25C', '27C', '30C', '31C', '33C', '28C', '34C']\n"
     ]
    }
   ],
   "source": [
    "temp_2 = temperaturas_2.copy()\n",
    "print(temperaturas_2)\n",
    "print(\"esta es la copia\",temp_2)"
   ]
  },
  {
   "cell_type": "code",
   "execution_count": 51,
   "metadata": {},
   "outputs": [
    {
     "name": "stdout",
     "output_type": "stream",
     "text": [
      "['30C', '32C', '31C', '33C', '37C', '39C', '40C']\n",
      "esta es la copia ['30C', '32C', '31C', '33C', '37C', '39C', '40C']\n"
     ]
    }
   ],
   "source": [
    "temp_3 = temperaturas_3.copy()\n",
    "print(temperaturas_3)\n",
    "print(\"esta es la copia\",temp_3)"
   ]
  },
  {
   "cell_type": "markdown",
   "metadata": {},
   "source": [
    "13. Vacía el contenido de la variable `temperaturas2`"
   ]
  },
  {
   "cell_type": "code",
   "execution_count": 52,
   "metadata": {},
   "outputs": [
    {
     "data": {
      "text/plain": [
       "[]"
      ]
     },
     "execution_count": 52,
     "metadata": {},
     "output_type": "execute_result"
    }
   ],
   "source": [
    "temperaturas_2.clear()\n",
    "temperaturas_2"
   ]
  },
  {
   "cell_type": "markdown",
   "metadata": {},
   "source": [
    "14. Imprime el contenido de `temperaturas` y `temperaturas2`."
   ]
  },
  {
   "cell_type": "code",
   "execution_count": 53,
   "metadata": {},
   "outputs": [
    {
     "name": "stdout",
     "output_type": "stream",
     "text": [
      "['26C', '27C', '30C', '28C', '29C', '31C', '30C']\n",
      "[]\n"
     ]
    }
   ],
   "source": [
    "print(temperaturas)\n",
    "print(temperaturas_2)"
   ]
  },
  {
   "cell_type": "markdown",
   "metadata": {},
   "source": [
    "15. Copia el contenido de `nombres` a `nombres2`."
   ]
  },
  {
   "cell_type": "code",
   "execution_count": 54,
   "metadata": {},
   "outputs": [
    {
     "name": "stdout",
     "output_type": "stream",
     "text": [
      "['L', 'a', 'u', 'r', 'a']\n",
      "esto es la copia ['L', 'a', 'u', 'r', 'a']\n"
     ]
    }
   ],
   "source": [
    "nombres2 = nombres.copy()\n",
    "print(nombres)\n",
    "print(\"esto es la copia\",nombres2)"
   ]
  },
  {
   "cell_type": "markdown",
   "metadata": {},
   "source": [
    " 16. Copia el contenido de `apellidos` a `apellidos2`."
   ]
  },
  {
   "cell_type": "code",
   "execution_count": 55,
   "metadata": {},
   "outputs": [
    {
     "name": "stdout",
     "output_type": "stream",
     "text": [
      "['G', 'u', 't', 'i', 'é', 'r', 'r', 'e', 'z', ' ', 'F', 'a', 'r', 'i', 'ñ', 'a', 's']\n",
      "esto es la copia ['G', 'u', 't', 'i', 'é', 'r', 'r', 'e', 'z', ' ', 'F', 'a', 'r', 'i', 'ñ', 'a', 's']\n"
     ]
    }
   ],
   "source": [
    "apellidos2 = apellidos.copy()\n",
    "print(apellidos)\n",
    "print(\"esto es la copia\",apellidos2)"
   ]
  },
  {
   "cell_type": "markdown",
   "metadata": {},
   "source": [
    "- Cambiar el orden de los contenidos"
   ]
  },
  {
   "cell_type": "markdown",
   "metadata": {},
   "source": [
    "17. Ordena la variable `temperaturas3` de mayor a menor."
   ]
  },
  {
   "cell_type": "code",
   "execution_count": 56,
   "metadata": {},
   "outputs": [
    {
     "data": {
      "text/plain": [
       "['30C', '31C', '32C', '33C', '37C', '39C', '40C']"
      ]
     },
     "execution_count": 56,
     "metadata": {},
     "output_type": "execute_result"
    }
   ],
   "source": [
    "temperaturas_3.sort()\n",
    "temperaturas_3"
   ]
  },
  {
   "cell_type": "markdown",
   "metadata": {},
   "source": [
    "18. Ordena los caracteres de tu nombre y tu apellido en las listas `nombres2` y `apellidos2`. Imprime el resultado y investiga: ¿qué orden ha cogido? ¿Cómo trata las mayúsculas?"
   ]
  },
  {
   "cell_type": "code",
   "execution_count": 57,
   "metadata": {},
   "outputs": [
    {
     "data": {
      "text/plain": [
       "['L', 'a', 'a', 'r', 'u']"
      ]
     },
     "execution_count": 57,
     "metadata": {},
     "output_type": "execute_result"
    }
   ],
   "source": [
    "sorted(nombres2)"
   ]
  },
  {
   "cell_type": "code",
   "execution_count": 58,
   "metadata": {},
   "outputs": [
    {
     "data": {
      "text/plain": [
       "[' ',\n",
       " 'F',\n",
       " 'G',\n",
       " 'a',\n",
       " 'a',\n",
       " 'e',\n",
       " 'i',\n",
       " 'i',\n",
       " 'r',\n",
       " 'r',\n",
       " 'r',\n",
       " 's',\n",
       " 't',\n",
       " 'u',\n",
       " 'z',\n",
       " 'é',\n",
       " 'ñ']"
      ]
     },
     "execution_count": 58,
     "metadata": {},
     "output_type": "execute_result"
    }
   ],
   "source": [
    "sorted(apellidos2)"
   ]
  },
  {
   "cell_type": "markdown",
   "metadata": {},
   "source": [
    "- Contar duplicados"
   ]
  },
  {
   "cell_type": "markdown",
   "metadata": {},
   "source": [
    "19. ¿Cuántas 'a' tiene tu nombre? ¿Y cuántas 'o'?"
   ]
  },
  {
   "cell_type": "code",
   "execution_count": 59,
   "metadata": {},
   "outputs": [
    {
     "data": {
      "text/plain": [
       "2"
      ]
     },
     "execution_count": 59,
     "metadata": {},
     "output_type": "execute_result"
    }
   ],
   "source": [
    "nombres.count(\"a\")"
   ]
  },
  {
   "cell_type": "code",
   "execution_count": 60,
   "metadata": {},
   "outputs": [
    {
     "data": {
      "text/plain": [
       "0"
      ]
     },
     "execution_count": 60,
     "metadata": {},
     "output_type": "execute_result"
    }
   ],
   "source": [
    "nombres.count(\"o\")"
   ]
  },
  {
   "cell_type": "markdown",
   "metadata": {},
   "source": [
    "20. Verifica si los resultados de ejercicio 19 son iguales para la lista `nombres2`."
   ]
  },
  {
   "cell_type": "code",
   "execution_count": 61,
   "metadata": {},
   "outputs": [
    {
     "data": {
      "text/plain": [
       "True"
      ]
     },
     "execution_count": 61,
     "metadata": {},
     "output_type": "execute_result"
    }
   ],
   "source": [
    "nombres.count(\"a\") == nombres2.count(\"a\")"
   ]
  },
  {
   "cell_type": "code",
   "execution_count": 62,
   "metadata": {},
   "outputs": [
    {
     "data": {
      "text/plain": [
       "True"
      ]
     },
     "execution_count": 62,
     "metadata": {},
     "output_type": "execute_result"
    }
   ],
   "source": [
    "nombres.count(\"o\") == nombres2.count(\"o\")"
   ]
  },
  {
   "cell_type": "markdown",
   "metadata": {},
   "source": [
    "21. ¿Cuántas veces esta semana llega la temperatura a la `t_max`? ¿Y cuántas a la `t_min`?"
   ]
  },
  {
   "cell_type": "code",
   "execution_count": 63,
   "metadata": {},
   "outputs": [
    {
     "data": {
      "text/plain": [
       "'31C'"
      ]
     },
     "execution_count": 63,
     "metadata": {},
     "output_type": "execute_result"
    }
   ],
   "source": [
    "t_max = max(temperaturas)\n",
    "t_max"
   ]
  },
  {
   "cell_type": "code",
   "execution_count": 64,
   "metadata": {},
   "outputs": [
    {
     "data": {
      "text/plain": [
       "'26C'"
      ]
     },
     "execution_count": 64,
     "metadata": {},
     "output_type": "execute_result"
    }
   ],
   "source": [
    "t_min = min(temperaturas)\n",
    "t_min"
   ]
  },
  {
   "cell_type": "markdown",
   "metadata": {},
   "source": [
    "- Definir otra lista"
   ]
  },
  {
   "cell_type": "markdown",
   "metadata": {},
   "source": [
    "22. La lista dias_en contiene 'monday', 'tuesday', 'wednesday', 'thursday', 'friday', 'saturday', y 'sunday'."
   ]
  },
  {
   "cell_type": "code",
   "execution_count": 65,
   "metadata": {},
   "outputs": [
    {
     "data": {
      "text/plain": [
       "['monday', 'tuesday', 'wednesday', 'thursday', 'friday', 'saturday', 'sunday']"
      ]
     },
     "execution_count": 65,
     "metadata": {},
     "output_type": "execute_result"
    }
   ],
   "source": [
    "dias_en = ['monday', 'tuesday', 'wednesday', 'thursday', 'friday', 'saturday', 'sunday']\n",
    "dias_en"
   ]
  },
  {
   "cell_type": "markdown",
   "metadata": {},
   "source": [
    "23. Define temperaturas_diciembre 👇🏽:\n",
    "    ```python\n",
    "\n",
    "      temperaturas_diciembre = [10, 10, 13, 14, 12, 15, \n",
    "                            12, 11, 13, 17, 18, 15, \n",
    "                            15, 17, 17, 13, 13, 11,\n",
    "                            12, 10, 12, 14, 12, 12,\n",
    "                            11, 12, 16, 16, 14, 17, 18]"
   ]
  },
  {
   "cell_type": "code",
   "execution_count": 66,
   "metadata": {},
   "outputs": [],
   "source": [
    "temperaturas_diciembre = [10, 10, 13, 14, 12, 15, \n",
    "                            12, 11, 13, 17, 18, 15, \n",
    "                            15, 17, 17, 13, 13, 11,\n",
    "                            12, 10, 12, 14, 12, 12,\n",
    "                            11, 12, 16, 16, 14, 17, 18]"
   ]
  },
  {
   "cell_type": "markdown",
   "metadata": {},
   "source": [
    "- Indexación de listas"
   ]
  },
  {
   "cell_type": "markdown",
   "metadata": {},
   "source": [
    "24. ¿Cuál es el penúltimo día de la semana?"
   ]
  },
  {
   "cell_type": "code",
   "execution_count": 67,
   "metadata": {},
   "outputs": [
    {
     "data": {
      "text/plain": [
       "'saturday'"
      ]
     },
     "execution_count": 67,
     "metadata": {},
     "output_type": "execute_result"
    }
   ],
   "source": [
    "dias_en[-2]"
   ]
  },
  {
   "cell_type": "markdown",
   "metadata": {},
   "source": [
    "25. ¿Cuál es el último elemento de la lista de temperaturas de diciembre? "
   ]
  },
  {
   "cell_type": "code",
   "execution_count": 68,
   "metadata": {},
   "outputs": [
    {
     "data": {
      "text/plain": [
       "18"
      ]
     },
     "execution_count": 68,
     "metadata": {},
     "output_type": "execute_result"
    }
   ],
   "source": [
    "temperaturas_diciembre[-1]"
   ]
  },
  {
   "cell_type": "markdown",
   "metadata": {},
   "source": [
    "27. ¿Está 'friday' en la lista de días en inglés? Si está, ¿dónde?"
   ]
  },
  {
   "cell_type": "code",
   "execution_count": 69,
   "metadata": {},
   "outputs": [
    {
     "data": {
      "text/plain": [
       "True"
      ]
     },
     "execution_count": 69,
     "metadata": {},
     "output_type": "execute_result"
    }
   ],
   "source": [
    "\"friday\" in dias_en"
   ]
  },
  {
   "cell_type": "code",
   "execution_count": 70,
   "metadata": {},
   "outputs": [
    {
     "data": {
      "text/plain": [
       "4"
      ]
     },
     "execution_count": 70,
     "metadata": {},
     "output_type": "execute_result"
    }
   ],
   "source": [
    "dias_en.index(\"friday\")"
   ]
  },
  {
   "cell_type": "markdown",
   "metadata": {},
   "source": [
    "28. ¿Cuál era la temperatura máxima en diciembre?"
   ]
  },
  {
   "cell_type": "code",
   "execution_count": 71,
   "metadata": {},
   "outputs": [
    {
     "data": {
      "text/plain": [
       "18"
      ]
     },
     "execution_count": 71,
     "metadata": {},
     "output_type": "execute_result"
    }
   ],
   "source": [
    "t_max = max(temperaturas_diciembre)\n",
    "t_max"
   ]
  },
  {
   "cell_type": "markdown",
   "metadata": {},
   "source": [
    "29. Encuentra el índice de 'miércoles' en dias_es."
   ]
  },
  {
   "cell_type": "code",
   "execution_count": 72,
   "metadata": {},
   "outputs": [
    {
     "data": {
      "text/plain": [
       "2"
      ]
     },
     "execution_count": 72,
     "metadata": {},
     "output_type": "execute_result"
    }
   ],
   "source": [
    "dias_en.index(\"wednesday\")"
   ]
  },
  {
   "cell_type": "markdown",
   "metadata": {},
   "source": [
    "# Bonus"
   ]
  },
  {
   "cell_type": "markdown",
   "metadata": {},
   "source": [
    "  30. Imprime esta frase en pantalla: 'La temperatura máxima esta semana será 14 ºC, que ocurrirá en 1 días(s). El día más frío tendrá una temperatura máxima de 10 ºC, que ocurrirá en 2 día(s).'"
   ]
  },
  {
   "cell_type": "code",
   "execution_count": 73,
   "metadata": {},
   "outputs": [
    {
     "name": "stdout",
     "output_type": "stream",
     "text": [
      "[10, 10, 13, 14, 12, 15, 12, 11, 13, 17, 18, 15, 15, 17, 17, 13, 13, 11, 12, 10, 12, 14, 12, 12, 11, 12, 16, 16, 14, 17, 18]\n"
     ]
    }
   ],
   "source": [
    "print(temperaturas_diciembre)"
   ]
  },
  {
   "cell_type": "code",
   "execution_count": 74,
   "metadata": {},
   "outputs": [
    {
     "name": "stdout",
     "output_type": "stream",
     "text": [
      "[10, 10, 13, 14, 12, 15]\n"
     ]
    }
   ],
   "source": [
    "temp_semana = temperaturas_diciembre[0:6]\n",
    "print(temp_semana)"
   ]
  },
  {
   "cell_type": "code",
   "execution_count": 75,
   "metadata": {},
   "outputs": [
    {
     "data": {
      "text/plain": [
       "15"
      ]
     },
     "execution_count": 75,
     "metadata": {},
     "output_type": "execute_result"
    }
   ],
   "source": [
    "temp_max = max(temp_semana)\n",
    "temp_max"
   ]
  },
  {
   "cell_type": "code",
   "execution_count": 76,
   "metadata": {},
   "outputs": [
    {
     "data": {
      "text/plain": [
       "10"
      ]
     },
     "execution_count": 76,
     "metadata": {},
     "output_type": "execute_result"
    }
   ],
   "source": [
    "temp_min = min(temp_semana)\n",
    "temp_min"
   ]
  },
  {
   "cell_type": "code",
   "execution_count": 77,
   "metadata": {},
   "outputs": [
    {
     "data": {
      "text/plain": [
       "2"
      ]
     },
     "execution_count": 77,
     "metadata": {},
     "output_type": "execute_result"
    }
   ],
   "source": [
    "temp_semana.count(temp_min)"
   ]
  },
  {
   "cell_type": "code",
   "execution_count": 78,
   "metadata": {},
   "outputs": [
    {
     "data": {
      "text/plain": [
       "'La temperatura máxima esta semana será 15 ºC, que ocurrirá en 1 días(s). El día más frío tendrá una temperatura minima de 10 ºC, que ocurrirá en 2 día(s).'"
      ]
     },
     "execution_count": 78,
     "metadata": {},
     "output_type": "execute_result"
    }
   ],
   "source": [
    "'La temperatura máxima esta semana será 15 ºC, que ocurrirá en 1 días(s). El día más frío tendrá una temperatura minima de 10 ºC, que ocurrirá en 2 día(s).'"
   ]
  },
  {
   "cell_type": "code",
   "execution_count": 79,
   "metadata": {},
   "outputs": [
    {
     "name": "stdout",
     "output_type": "stream",
     "text": [
      "La temperatura máxima esta semana será 15 que ocurrirá en 1 dias(s).\n"
     ]
    }
   ],
   "source": [
    "print(\"La temperatura máxima esta semana será\", temp_max, \"que ocurrirá en\", temp_semana.count(temp_max), \"dias(s).\")"
   ]
  },
  {
   "cell_type": "code",
   "execution_count": 80,
   "metadata": {},
   "outputs": [
    {
     "name": "stdout",
     "output_type": "stream",
     "text": [
      "La temperatura máxima esta semana será 15 ºC, que ocurrirá en 1 dias(s). El día más frío tendrá una temperatura minima de 10 ºC, que ocurrirá en 2 día(s).\n"
     ]
    }
   ],
   "source": [
    "print(f\"La temperatura máxima esta semana será {temp_max} ºC, que ocurrirá en {temp_semana.count(temp_max)} dias(s). El día más frío tendrá una temperatura minima de {temp_min} ºC, que ocurrirá en 2 día(s).\")"
   ]
  }
 ],
 "metadata": {
  "kernelspec": {
   "display_name": "base",
   "language": "python",
   "name": "python3"
  },
  "language_info": {
   "codemirror_mode": {
    "name": "ipython",
    "version": 3
   },
   "file_extension": ".py",
   "mimetype": "text/x-python",
   "name": "python",
   "nbconvert_exporter": "python",
   "pygments_lexer": "ipython3",
   "version": "3.9.12"
  }
 },
 "nbformat": 4,
 "nbformat_minor": 2
}
