{
 "cells": [
  {
   "cell_type": "markdown",
   "metadata": {},
   "source": [
    "# Ejercicios:"
   ]
  },
  {
   "cell_type": "markdown",
   "metadata": {},
   "source": [
    "- Definir tuplas"
   ]
  },
  {
   "cell_type": "markdown",
   "metadata": {},
   "source": [
    "1. Crea una tupla `persona1` para juntar los siguientes datos: 61 kg, 1.54 m altura, pelo marrón, sin usar paréntesis. (Serán del tipo `int`, `float` y `str`.)"
   ]
  },
  {
   "cell_type": "code",
   "execution_count": 1,
   "metadata": {},
   "outputs": [
    {
     "name": "stdout",
     "output_type": "stream",
     "text": [
      "(61, 1.54, 'pelo marrón')\n"
     ]
    }
   ],
   "source": [
    "personal = 61, 1.54, \"pelo marrón\"\n",
    "print(personal)"
   ]
  },
  {
   "cell_type": "markdown",
   "metadata": {},
   "source": [
    "2. Crea una tupla para la `persona2` de 68 kg, 1.65 m y pelo rubio, usando paréntesis."
   ]
  },
  {
   "cell_type": "code",
   "execution_count": 2,
   "metadata": {},
   "outputs": [
    {
     "name": "stdout",
     "output_type": "stream",
     "text": [
      "(68, 1.65, 'pelo rubio')\n"
     ]
    }
   ],
   "source": [
    "persona2 = (68, 1.65, \"pelo rubio\")\n",
    "print(persona2)"
   ]
  },
  {
   "cell_type": "markdown",
   "metadata": {},
   "source": [
    "3. Crea una lista `talla` que recompila 'M', 42, y 39. "
   ]
  },
  {
   "cell_type": "code",
   "execution_count": 3,
   "metadata": {},
   "outputs": [
    {
     "name": "stdout",
     "output_type": "stream",
     "text": [
      "['M', 42, 39]\n"
     ]
    }
   ],
   "source": [
    "talla = ['M', 42, 39]\n",
    "print(talla)"
   ]
  },
  {
   "cell_type": "markdown",
   "metadata": {},
   "source": [
    "- Convertir y juntar"
   ]
  },
  {
   "cell_type": "markdown",
   "metadata": {},
   "source": [
    "4. Convierte la lista `talla` a una tupla."
   ]
  },
  {
   "cell_type": "code",
   "execution_count": 4,
   "metadata": {},
   "outputs": [
    {
     "name": "stdout",
     "output_type": "stream",
     "text": [
      "('M', 42, 39)\n"
     ]
    }
   ],
   "source": [
    "talla = tuple(talla)\n",
    "print(talla)"
   ]
  },
  {
   "cell_type": "markdown",
   "metadata": {},
   "source": [
    "5. Une a la tupla de `persona1` los datos en `talla`, para tener una única tupla."
   ]
  },
  {
   "cell_type": "code",
   "execution_count": 5,
   "metadata": {},
   "outputs": [
    {
     "data": {
      "text/plain": [
       "(61, 1.54, 'pelo marrón', 'M', 42, 39)"
      ]
     },
     "execution_count": 5,
     "metadata": {},
     "output_type": "execute_result"
    }
   ],
   "source": [
    "union_tuplas = personal + talla \n",
    "union_tuplas"
   ]
  },
  {
   "cell_type": "markdown",
   "metadata": {},
   "source": [
    "- Indexar tuplas"
   ]
  },
  {
   "cell_type": "markdown",
   "metadata": {},
   "source": [
    "6. Saca de `persona2` el contenido del tercer elemento y llámalo `color`."
   ]
  },
  {
   "cell_type": "code",
   "execution_count": 6,
   "metadata": {},
   "outputs": [
    {
     "name": "stdout",
     "output_type": "stream",
     "text": [
      "(68, 1.65, 'pelo rubio')\n"
     ]
    }
   ],
   "source": [
    "print(persona2)"
   ]
  },
  {
   "cell_type": "code",
   "execution_count": 7,
   "metadata": {},
   "outputs": [
    {
     "name": "stdout",
     "output_type": "stream",
     "text": [
      "pelo rubio\n"
     ]
    }
   ],
   "source": [
    "color = persona2[2]\n",
    "print(color)"
   ]
  },
  {
   "cell_type": "markdown",
   "metadata": {},
   "source": [
    "7. ¿Cuántos elementos hay ahora en `persona1`? (Es decir, ¿cuál es su longitud?)"
   ]
  },
  {
   "cell_type": "code",
   "execution_count": 8,
   "metadata": {},
   "outputs": [
    {
     "data": {
      "text/plain": [
       "3"
      ]
     },
     "execution_count": 8,
     "metadata": {},
     "output_type": "execute_result"
    }
   ],
   "source": [
    "len(personal)"
   ]
  },
  {
   "cell_type": "markdown",
   "metadata": {},
   "source": [
    "- Desempaquetar"
   ]
  },
  {
   "cell_type": "markdown",
   "metadata": {},
   "source": [
    "8. Crea las variables `peso`, `altura`, `color_pelo` y llénalas con el contenido de `persona1`. Imprime `color_pelo` para comprobar el resultado. "
   ]
  },
  {
   "cell_type": "code",
   "execution_count": 9,
   "metadata": {},
   "outputs": [
    {
     "data": {
      "text/plain": [
       "'pelo marrón'"
      ]
     },
     "execution_count": 9,
     "metadata": {},
     "output_type": "execute_result"
    }
   ],
   "source": [
    "peso, altura, color_pelo = personal\n",
    "color_pelo"
   ]
  },
  {
   "cell_type": "markdown",
   "metadata": {},
   "source": [
    "- Zipear"
   ]
  },
  {
   "cell_type": "markdown",
   "metadata": {},
   "source": [
    "9. Crea el zip `personas` con `persona1` y `persona2`."
   ]
  },
  {
   "cell_type": "code",
   "execution_count": 10,
   "metadata": {},
   "outputs": [
    {
     "name": "stdout",
     "output_type": "stream",
     "text": [
      "(61, 1.54, 'pelo marrón')\n",
      "(68, 1.65, 'pelo rubio')\n"
     ]
    }
   ],
   "source": [
    "print(personal)\n",
    "print(persona2)"
   ]
  },
  {
   "cell_type": "code",
   "execution_count": 11,
   "metadata": {},
   "outputs": [],
   "source": [
    "personas = zip(personal, persona2)\n",
    "# Al conprobar el zip cambia el resultado del siguiente ejercicio.(Es un iterable)\n",
    "# print(list(personas))"
   ]
  },
  {
   "cell_type": "markdown",
   "metadata": {},
   "source": [
    "10. ¿Cuántas \"elementos\" tiene `personas`? ¿Por qué?"
   ]
  },
  {
   "cell_type": "code",
   "execution_count": 12,
   "metadata": {},
   "outputs": [
    {
     "name": "stdout",
     "output_type": "stream",
     "text": [
      "El zip contiene: 3 elementos.\n"
     ]
    }
   ],
   "source": [
    "# Para contarlo primero hay que convertirlo en una lista.\n",
    "cantidad_elementos = len(list(personas))\n",
    "print(f\"El zip contiene: {cantidad_elementos} elementos.\")"
   ]
  },
  {
   "cell_type": "code",
   "execution_count": 13,
   "metadata": {},
   "outputs": [],
   "source": [
    "# La lista tiene 5 elementos, ya que solo he iterado una vez con ellos, en el caso de iterar dos veces saldria como resultado 0."
   ]
  },
  {
   "cell_type": "markdown",
   "metadata": {},
   "source": [
    "11. Crea una tupla `etiquetas` con `'peso'`, `'altura'`, y `'color_pelo'`."
   ]
  },
  {
   "cell_type": "code",
   "execution_count": 14,
   "metadata": {},
   "outputs": [
    {
     "name": "stdout",
     "output_type": "stream",
     "text": [
      "<class 'tuple'>\n",
      "(61, 1.54, 'pelo marrón')\n"
     ]
    }
   ],
   "source": [
    "etiquetas = peso, altura, color_pelo\n",
    "print(type(etiquetas))\n",
    "print(etiquetas)"
   ]
  },
  {
   "cell_type": "markdown",
   "metadata": {},
   "source": [
    "12. Crea al zip de `etiquetas`, `persona1`, y `persona2`, llamado \"todo\"."
   ]
  },
  {
   "cell_type": "code",
   "execution_count": 15,
   "metadata": {},
   "outputs": [
    {
     "name": "stdout",
     "output_type": "stream",
     "text": [
      "[(61, 61, 68), (1.54, 1.54, 1.65), ('pelo marrón', 'pelo marrón', 'pelo rubio')]\n"
     ]
    }
   ],
   "source": [
    "todo = list(zip(etiquetas, personal, persona2))\n",
    "print(todo)"
   ]
  },
  {
   "cell_type": "markdown",
   "metadata": {},
   "source": [
    "- Manipular zips"
   ]
  },
  {
   "cell_type": "markdown",
   "metadata": {},
   "source": [
    "13. Ordena las propiedades de la variable `personas` alfabéticamente. ¿Puedes? ¿Por qué?"
   ]
  },
  {
   "cell_type": "code",
   "execution_count": 19,
   "metadata": {},
   "outputs": [],
   "source": [
    "# No puedo ordenar directamente el zip tal como está, ya que contiene diferentes tipos de datos (números y cadenas). Además, la función sorted() no sabe cómo manejar elementos mixtos en un zip porque mezcla números y cadenas.\n",
    "# Una solución que se podria aplicar seria extraer solo las cadenas de ambas tuplas y luego ordenarlas."
   ]
  },
  {
   "cell_type": "code",
   "execution_count": 20,
   "metadata": {},
   "outputs": [
    {
     "name": "stdout",
     "output_type": "stream",
     "text": [
      "Propiedades ordenadas alfabéticamente: ['pelo marrón', 'pelo rubio']\n"
     ]
    }
   ],
   "source": [
    "# Definir las dos tuplas\n",
    "persona1 = (61, 1.54, \"pelo marrón\")\n",
    "persona2 = (68, 1.65, \"pelo rubio\")\n",
    "\n",
    "# Combinar las tuplas usando zip\n",
    "personas = list(zip(persona1, persona2))\n",
    "\n",
    "# Extraer solo las propiedades que son cadenas (strings)\n",
    "# Estos metodos han sido buscados.\n",
    "propiedades = [item for sublist in personas for item in sublist if isinstance(item, str)]\n",
    "\n",
    "# Ordenar alfabéticamente las propiedades\n",
    "propiedades_ordenadas = sorted(propiedades)\n",
    "\n",
    "print(f\"Propiedades ordenadas alfabéticamente: {propiedades_ordenadas}\")"
   ]
  }
 ],
 "metadata": {
  "kernelspec": {
   "display_name": "base",
   "language": "python",
   "name": "python3"
  },
  "language_info": {
   "codemirror_mode": {
    "name": "ipython",
    "version": 3
   },
   "file_extension": ".py",
   "mimetype": "text/x-python",
   "name": "python",
   "nbconvert_exporter": "python",
   "pygments_lexer": "ipython3",
   "version": "3.9.12"
  }
 },
 "nbformat": 4,
 "nbformat_minor": 2
}
