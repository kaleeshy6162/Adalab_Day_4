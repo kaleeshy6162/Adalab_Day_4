{
 "cells": [
  {
   "cell_type": "markdown",
   "metadata": {},
   "source": [
    "# Ejercicios"
   ]
  },
  {
   "cell_type": "markdown",
   "metadata": {},
   "source": [
    "1. Escribe una función que reciba una cadena de texto como parámetro y devuelva un diccionario con las frecuencias de cada letra en la cadena. Los espacios no deben ser considerados. "
   ]
  },
  {
   "cell_type": "code",
   "execution_count": 14,
   "metadata": {},
   "outputs": [
    {
     "name": "stdout",
     "output_type": "stream",
     "text": [
      "['H', 'o', 'l', 'a', ' ', 'm', 'e', ' ', 'l', 'l', 'a', 'm', 'o', ' ', 'L', 'a', 'u', 'r', 'a']\n"
     ]
    }
   ],
   "source": [
    "cadena_texto = \"Hola me llamo Laura\"\n",
    "x = list(cadena_texto)\n",
    "print(x)"
   ]
  },
  {
   "cell_type": "markdown",
   "metadata": {},
   "source": [
    "2. Escribe una función que reciba una cadena de texto como parámetro y devuelva una lista con todas las palabras que tienen más de 5 letras."
   ]
  },
  {
   "cell_type": "code",
   "execution_count": null,
   "metadata": {},
   "outputs": [],
   "source": []
  },
  {
   "cell_type": "markdown",
   "metadata": {},
   "source": [
    "3. Crea una función que tome una lista de palabras como entrada y devuelva una lista de palabras que contengan más de una vocal."
   ]
  },
  {
   "cell_type": "code",
   "execution_count": 2,
   "metadata": {},
   "outputs": [],
   "source": [
    "def palabras_mas_vocal(lista_palabras): # [\"hola\", \"mundo\"]\n",
    "\n",
    "    salida = []\n",
    "    vocales = \"aeiou\"\n",
    "\n",
    "    for palabra in lista_palabras:\n",
    "        contar_vocales = 0\n",
    "\n",
    "        for letra in palabra:\n",
    "\n",
    "            if letra.lower() in vocales:\n",
    "                contar_vocales += 1\n",
    "\n",
    "        if contar_vocales > 1:\n",
    "            salida.append(palabra)\n",
    "\n",
    "        else:\n",
    "            pass\n",
    "        \n",
    "    return salida"
   ]
  },
  {
   "cell_type": "code",
   "execution_count": null,
   "metadata": {},
   "outputs": [],
   "source": []
  },
  {
   "cell_type": "markdown",
   "metadata": {},
   "source": [
    "4. Crea una función que tome una lista de números y calcule la suma de todos los números pares en la lista."
   ]
  },
  {
   "cell_type": "code",
   "execution_count": null,
   "metadata": {},
   "outputs": [],
   "source": []
  },
  {
   "cell_type": "markdown",
   "metadata": {},
   "source": [
    "5. Escribe una función que tome una lista de números como entrada y calcule el promedio de esos números."
   ]
  },
  {
   "cell_type": "code",
   "execution_count": null,
   "metadata": {},
   "outputs": [],
   "source": []
  },
  {
   "cell_type": "markdown",
   "metadata": {},
   "source": [
    "6. Crea una función que determine el próximo año en el que las cifras del año de tu cumpleaños no se repitan. La función toma un año de tu cumpleaños como entrada y calcula el próximo año en el que las cifras no se repitan, es decir, todas las cifras en el año son diferentes entre sí."
   ]
  },
  {
   "cell_type": "code",
   "execution_count": null,
   "metadata": {},
   "outputs": [],
   "source": []
  },
  {
   "cell_type": "markdown",
   "metadata": {},
   "source": [
    "7. Crea una función que determine cuántos pasteles puedes hornear según una receta y los ingredientes disponibles. La función toma dos diccionarios como entrada: receta, que contiene los ingredientes necesarios para un pastel, y disponible, que contiene la cantidad disponible de cada ingrediente. Sus parámetros de entrada son: \n",
    "\n",
    "    - receta: Un diccionario que representa los ingredientes necesarios para un pastel, donde las claves son los nombres de los ingredientes y los valores son las cantidades necesarias de cada ingrediente.\n",
    "\n",
    "    - disponible: Un diccionario que representa la cantidad disponible de cada ingrediente, donde las claves son los nombres de los ingredientes y los valores son las cantidades disponibles.\n",
    "\n",
    "    ```python\n",
    "    receta1 = {'flour': 500, 'sugar': 200, 'eggs': 1}\n",
    "    ingredientes1 = {'flour': 1200, 'sugar': 1200, 'eggs': 5, 'milk': 200}\n",
    "\n",
    "    pasteles(receta1, ingredientes1)    \n",
    "    # output: con estos ingredientes solo puedo hacer 2 bizcochos\n",
    "    ```"
   ]
  },
  {
   "cell_type": "code",
   "execution_count": null,
   "metadata": {},
   "outputs": [],
   "source": []
  },
  {
   "cell_type": "markdown",
   "metadata": {},
   "source": [
    "# BONUS:"
   ]
  },
  {
   "cell_type": "markdown",
   "metadata": {},
   "source": [
    "8. Crea una función llamada fibonacci que tome un número n como argumento y devuelva una lista con los primeros n números de la serie Fibonacci."
   ]
  },
  {
   "cell_type": "code",
   "execution_count": null,
   "metadata": {},
   "outputs": [],
   "source": []
  }
 ],
 "metadata": {
  "kernelspec": {
   "display_name": "base",
   "language": "python",
   "name": "python3"
  },
  "language_info": {
   "codemirror_mode": {
    "name": "ipython",
    "version": 3
   },
   "file_extension": ".py",
   "mimetype": "text/x-python",
   "name": "python",
   "nbconvert_exporter": "python",
   "pygments_lexer": "ipython3",
   "version": "3.9.12"
  }
 },
 "nbformat": 4,
 "nbformat_minor": 2
}
