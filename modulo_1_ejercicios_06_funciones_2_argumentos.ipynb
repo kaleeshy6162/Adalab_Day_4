{
 "cells": [
  {
   "cell_type": "markdown",
   "metadata": {},
   "source": [
    "# Ejercicios"
   ]
  },
  {
   "cell_type": "markdown",
   "metadata": {},
   "source": [
    "1. Crea una función que tome un número arbitrario de cadenas de texto como argumentos y devuelva una cadena de texto que sea la concatenación de todas ellas. "
   ]
  },
  {
   "cell_type": "code",
   "execution_count": null,
   "metadata": {},
   "outputs": [],
   "source": []
  },
  {
   "cell_type": "markdown",
   "metadata": {},
   "source": [
    "2. Crea una función que tome un número arbitrario de argumentos y devuelva el producto de todos ellos."
   ]
  },
  {
   "cell_type": "code",
   "execution_count": null,
   "metadata": {},
   "outputs": [],
   "source": []
  },
  {
   "cell_type": "markdown",
   "metadata": {},
   "source": [
    "3. Crea una función que tome un número arbitrario de diccionarios como argumentos y devuelva el valor mínimo entre todos los valores de los diccionarios."
   ]
  },
  {
   "cell_type": "code",
   "execution_count": null,
   "metadata": {},
   "outputs": [],
   "source": []
  },
  {
   "cell_type": "markdown",
   "metadata": {},
   "source": [
    "4. Crea una función que tome un número arbitrario de listas y devuelva un diccionario donde las listas originales se combinan usando los índices como claves."
   ]
  },
  {
   "cell_type": "code",
   "execution_count": null,
   "metadata": {},
   "outputs": [],
   "source": []
  },
  {
   "cell_type": "markdown",
   "metadata": {},
   "source": [
    "5. Crea una función que tome el tipo de figura geométrica (por ejemplo, \"cuadrado\", \"triángulo\", \"círculo\") como argumento de palabra clave y los argumentos necesarios para calcular el área de esa figura. La función debe devolver el área calculada. Soluciona este ejercicio con *kwargs* Por ejemplo: \n",
    "\n",
    "    ```python\n",
    "    # esta función calcula el area de un cuadrado, para hacerlo solo necesitamos saber su lado  \n",
    "    area_figura(tipo=\"cuadrado\", lado=5)\n",
    "\n",
    "    # si quisieramos calcular la de un triángulo necesitaríamos su base y su altura, y si quisieramos calcular de un círculo necesitaríamos su radio. \n",
    "    ```"
   ]
  },
  {
   "cell_type": "code",
   "execution_count": null,
   "metadata": {},
   "outputs": [],
   "source": []
  },
  {
   "cell_type": "markdown",
   "metadata": {},
   "source": [
    "6. Crea una función que tome argumentos de palabra clave para los ingredientes y pasos de una receta y devuelva una descripción completa de la receta. Resuelvelo con *kwargs*.  Esta función toma como entrada una serie de detalles sobre la receta, como el nombre de la receta, los ingredientes necesarios y los pasos para prepararla. Luego, la función genera y devuelve una descripción detallada de la receta en forma de cadena de texto. Los parámetros que debe recibir la función son:\n",
    "\n",
    "    - nombre_receta: Un argumento de palabra clave que representa el nombre de la receta.\n",
    "\n",
    "    - ingredientes: Un argumento de palabra clave que es un diccionario donde las claves son los nombres de los ingredientes y los valores son las cantidades necesarias de cada ingrediente.\n",
    "    \n",
    "    - pasos: Un argumento de palabra clave que contiene los pasos necesarios para preparar la receta en forma de una cadena de texto.\n",
    "\n",
    "    Al final tendremos que ver algo como esto: \n",
    "    ```python\n",
    "    '''\n",
    "    Receta: Pastel de Chocolate\n",
    "    Ingredientes:\n",
    "        - 200g de chocolate\n",
    "        - 150g de harina\n",
    "        - 100g de azúcar\n",
    "    Pasos:\n",
    "        1. Mezclar el chocolate con la harina.\n",
    "        2. Agregar el azúcar y mezclar bien.\n",
    "    '''\n",
    "    ```"
   ]
  },
  {
   "cell_type": "code",
   "execution_count": null,
   "metadata": {},
   "outputs": [],
   "source": []
  },
  {
   "cell_type": "markdown",
   "metadata": {},
   "source": [
    "7. Crea una función que tome argumentos de palabra clave para los ingresos y gastos de una empresa y genere un informe financiero. Resyelvelo con *kwargs*. La función calcula y presenta un informe financiero simple. Este informe incluye detalles sobre los ingresos, los gastos y el balance de una entidad financiera, como una empresa o una persona. La función toma como entrada los ingresos y los gastos, y calcula el balance restando los gastos de los ingresos. Luego, genera una descripción del informe financiero en forma de cadena de texto. Los parámetros que recibe la función son: \n",
    "\n",
    "    - ingresos: Un argumento de palabra clave que representa la cantidad total de ingresos (dinero ganado) que se desea informar. Por defecto, se establece en 0 si no se proporciona ningún valor.\n",
    "\n",
    "    - gastos: Un argumento de palabra clave que representa la cantidad total de gastos (dinero gastado) que se desea informar. Por defecto, se establece en 0 si no se proporciona ningún valor.\n",
    "\n",
    "\n",
    "    Al final tendremos algo como esto:\n",
    "\n",
    "    ```python\n",
    "    '''\n",
    "    Ingresos: $50000\n",
    "    Gastos: $35000\n",
    "    Balance: $15000\n",
    "    '''\n",
    "    ```"
   ]
  },
  {
   "cell_type": "code",
   "execution_count": null,
   "metadata": {},
   "outputs": [],
   "source": []
  }
 ],
 "metadata": {
  "kernelspec": {
   "display_name": "base",
   "language": "python",
   "name": "python3"
  },
  "language_info": {
   "name": "python",
   "version": "3.9.12"
  }
 },
 "nbformat": 4,
 "nbformat_minor": 2
}
