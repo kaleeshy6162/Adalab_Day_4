{
 "cells": [
  {
   "cell_type": "markdown",
   "metadata": {},
   "source": [
    "# Ejercicios "
   ]
  },
  {
   "cell_type": "markdown",
   "metadata": {},
   "source": [
    "Crea una clase llamada `Vehiculo` que representa un vehículo genérico. Esta clase tiene la capacidad de realizar acciones relacionadas con el vehículo, como encenderlo, apagarlo, acelerar, frenar y detenerlo gradualmente. Cada método en la clase tiene una descripción específica de su función. A continuación, se detallan los aspectos clave de esta clase:"
   ]
  },
  {
   "cell_type": "markdown",
   "metadata": {},
   "source": [
    "**Atributos:**"
   ]
  },
  {
   "cell_type": "markdown",
   "metadata": {},
   "source": [
    "- `marca`: Una cadena que representa la marca del vehículo."
   ]
  },
  {
   "cell_type": "markdown",
   "metadata": {},
   "source": [
    "- `modelo`: Una cadena que representa el modelo del vehículo."
   ]
  },
  {
   "cell_type": "markdown",
   "metadata": {},
   "source": [
    "- `año`: Un número entero que representa el año de fabricación del vehículo."
   ]
  },
  {
   "cell_type": "markdown",
   "metadata": {},
   "source": [
    "- `velocidad_actual`: Un número entero que representa la velocidad actual del vehículo en km/h."
   ]
  },
  {
   "cell_type": "markdown",
   "metadata": {},
   "source": [
    "- `encendido`: Un valor booleano que indica si el vehículo está encendido (`True`) o apagado (`False`)."
   ]
  },
  {
   "cell_type": "markdown",
   "metadata": {},
   "source": [
    "**Métodos:**"
   ]
  },
  {
   "cell_type": "markdown",
   "metadata": {},
   "source": [
    "-  `__init__(self, marca, modelo, año)`: El constructor de la clase que inicializa los atributos del vehículo, incluyendo la marca, el modelo, el año, la velocidad actual (inicialmente 0) y el estado del encendido (inicialmente apagado)."
   ]
  },
  {
   "cell_type": "markdown",
   "metadata": {},
   "source": [
    "- `informacion(self)`: Un método que devuelve una cadena de texto con la información básica del vehículo, incluyendo la marca, el modelo y el año."
   ]
  },
  {
   "cell_type": "markdown",
   "metadata": {},
   "source": [
    "- `encender(self)`: Un método que enciende el vehículo si está apagado y devuelve un mensaje de confirmación. Si el vehículo ya está encendido, devuelve un mensaje indicando que ya está en funcionamiento."
   ]
  },
  {
   "cell_type": "markdown",
   "metadata": {},
   "source": [
    "- `apagar(self)`: Un método que apaga el vehículo si está encendido, establece la velocidad actual en 0 y devuelve un mensaje de confirmación. Si el vehículo ya está apagado, devuelve un mensaje indicando que ya está apagado."
   ]
  },
  {
   "cell_type": "markdown",
   "metadata": {},
   "source": [
    "- `acelerar(self, velocidad)`: Un método que aumenta la velocidad actual del vehículo según la cantidad de velocidad proporcionada como argumento. Si el vehículo está encendido, aumenta la velocidad y devuelve un mensaje con la nueva velocidad actual. Si el vehículo está apagado, devuelve un mensaje indicando que no se puede acelerar."
   ]
  },
  {
   "cell_type": "markdown",
   "metadata": {},
   "source": [
    "- `frenar(self, velocidad)`: Un método que reduce la velocidad actual del vehículo según la cantidad de velocidad proporcionada como argumento. Si el vehículo está encendido, reduce la velocidad y devuelve un mensaje con la nueva velocidad actual. Si el vehículo está apagado, devuelve un mensaje indicando que no se puede frenar."
   ]
  },
  {
   "cell_type": "markdown",
   "metadata": {},
   "source": [
    "- `detener(self)`: Un método que detiene gradualmente el vehículo reduciendo la velocidad en incrementos de 5 km/h hasta que alcance una velocidad de 0 km/h. Si el vehículo está encendido, detiene el vehículo y devuelve un mensaje de confirmación. Si el vehículo está apagado, devuelve un mensaje indicando que no se puede detener."
   ]
  },
  {
   "cell_type": "code",
   "execution_count": 1,
   "metadata": {},
   "outputs": [],
   "source": [
    "class Vehiculo:\n",
    "\n",
    "    def __init__(self, marca, modelo, año):\n",
    "\n",
    "        self.marca = marca\n",
    "        self.modelo = modelo\n",
    "        self.año = año\n",
    "        self.velocidad_actual = 0\n",
    "        self.encendido = False\n",
    "\n",
    "    def info(self):\n",
    "\n",
    "\n",
    "        return f\"Vehiculo: {self.marca} {self.modelo}, Año: {self.año}\""
   ]
  },
  {
   "cell_type": "code",
   "execution_count": 2,
   "metadata": {},
   "outputs": [],
   "source": [
    "mi_coche = Vehiculo(\"Toyota\", \"carola\", 2016)"
   ]
  },
  {
   "cell_type": "code",
   "execution_count": null,
   "metadata": {},
   "outputs": [],
   "source": []
  },
  {
   "cell_type": "markdown",
   "metadata": {},
   "source": [
    "Crea la subclase Coche que hereda de la clase base Vehiculo y representa un coche específico. Además de los atributos y métodos heredados, la clase Coche tiene un atributo adicional:"
   ]
  },
  {
   "cell_type": "markdown",
   "metadata": {},
   "source": [
    "**Atributos:**"
   ]
  },
  {
   "cell_type": "markdown",
   "metadata": {},
   "source": [
    "- combustible: Una cadena que representa el tipo de combustible que utiliza el coche."
   ]
  },
  {
   "cell_type": "markdown",
   "metadata": {},
   "source": [
    "**Métodos:**"
   ]
  },
  {
   "cell_type": "markdown",
   "metadata": {},
   "source": [
    "- `__init__(self, marca, modelo, año, combustible)`: Constructor que inicializa los atributos de la clase base y el atributo específico del coche."
   ]
  },
  {
   "cell_type": "markdown",
   "metadata": {},
   "source": [
    "- `informacion(self)`: Devuelve una cadena con la información del coche, incluyendo la marca, el modelo, el año y el tipo de combustible."
   ]
  }
 ],
 "metadata": {
  "kernelspec": {
   "display_name": "base",
   "language": "python",
   "name": "python3"
  },
  "language_info": {
   "codemirror_mode": {
    "name": "ipython",
    "version": 3
   },
   "file_extension": ".py",
   "mimetype": "text/x-python",
   "name": "python",
   "nbconvert_exporter": "python",
   "pygments_lexer": "ipython3",
   "version": "3.9.12"
  }
 },
 "nbformat": 4,
 "nbformat_minor": 2
}
